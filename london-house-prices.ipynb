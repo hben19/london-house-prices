{
 "cells": [
  {
   "cell_type": "markdown",
   "metadata": {},
   "source": [
    "# Examining House Prices in London."
   ]
  },
  {
   "cell_type": "markdown",
   "metadata": {},
   "source": [
    "In this data visualization project I will examine how London house prices have changed compared to England house prices over the years and what is the current market situation. I will also explore a few of those factors what could influence the market. I am going to use explanotary data analysis to discover trends in the data with the goal of understanding the economic analysis of London house prices, which have been carried out by Joel Marsden in 2015 (https://www.london.gov.uk/sites/default/files/house-prices-in-london.pdf) concludig that London house prices are ofter overvalued, but still contiously grows and to answer the following research questions:\n",
    " - How London house prices have changed between 1995 and 2020 compared to England?\n",
    " - What is the current market situation in different London boroughs?\n",
    " - How the volume of sales affect the house prices?\n",
    " \n"
   ]
  },
  {
   "cell_type": "markdown",
   "metadata": {},
   "source": [
    "## 1. Data Preparation"
   ]
  },
  {
   "cell_type": "markdown",
   "metadata": {},
   "source": [
    "### 1.1 Importing Libraries"
   ]
  },
  {
   "cell_type": "code",
   "execution_count": 139,
   "metadata": {},
   "outputs": [],
   "source": [
    "import numpy as np\n",
    "import pandas as pd\n",
    "import matplotlib.pyplot as plt\n",
    "import matplotlib as mpl\n",
    "%matplotlib inline\n",
    "import seaborn as sns\n",
    "import geopandas as gpd"
   ]
  },
  {
   "cell_type": "markdown",
   "metadata": {},
   "source": [
    "### 1.2 Datasets"
   ]
  },
  {
   "cell_type": "markdown",
   "metadata": {},
   "source": [
    "#### UK House Price Index\n",
    "\n",
    "For this project my main dataset will be the UK House Price Index which I have downlaoded from the London Data Store (https://data.london.gov.uk/dataset/uk-house-price-index) and has been collected by Land Registry. The UK HPI uses sales data collected on residential housing transactions, whether for cash or with a mortgage. This dataset includes the monthly house prices between 01/1995 and 09/2020 in all 33 London boroughs and England. To conduct this research I was pecifically  looking for the the most reliable and largest dataset about UK house prices in London and this seemed to be the best dataset for this project. \n",
    "\n",
    "\n",
    "#### *Statistical GIS Boundary Files for London\n",
    "\n",
    "To make choropleth maps I had to use this extra dataset. These datasets covered all the necessary data to draw London maps using geopandas. (https://data.london.gov.uk/dataset/statistical-gis-boundary-files-london) \n"
   ]
  },
  {
   "cell_type": "markdown",
   "metadata": {},
   "source": [
    "Importing Datasets"
   ]
  },
  {
   "cell_type": "code",
   "execution_count": 140,
   "metadata": {},
   "outputs": [
    {
     "data": {
      "text/html": [
       "<div>\n",
       "<style scoped>\n",
       "    .dataframe tbody tr th:only-of-type {\n",
       "        vertical-align: middle;\n",
       "    }\n",
       "\n",
       "    .dataframe tbody tr th {\n",
       "        vertical-align: top;\n",
       "    }\n",
       "\n",
       "    .dataframe thead th {\n",
       "        text-align: right;\n",
       "    }\n",
       "</style>\n",
       "<table border=\"1\" class=\"dataframe\">\n",
       "  <thead>\n",
       "    <tr style=\"text-align: right;\">\n",
       "      <th></th>\n",
       "      <th>City of London</th>\n",
       "      <th>Barking &amp; Dagenham</th>\n",
       "      <th>Barnet</th>\n",
       "      <th>Bexley</th>\n",
       "      <th>Brent</th>\n",
       "      <th>Bromley</th>\n",
       "      <th>Camden</th>\n",
       "      <th>Croydon</th>\n",
       "      <th>Ealing</th>\n",
       "      <th>Enfield</th>\n",
       "      <th>...</th>\n",
       "      <th>Redbridge</th>\n",
       "      <th>Richmond upon Thames</th>\n",
       "      <th>Southwark</th>\n",
       "      <th>Sutton</th>\n",
       "      <th>Tower Hamlets</th>\n",
       "      <th>Waltham Forest</th>\n",
       "      <th>Wandsworth</th>\n",
       "      <th>Westminster</th>\n",
       "      <th>London</th>\n",
       "      <th>England</th>\n",
       "    </tr>\n",
       "    <tr>\n",
       "      <th>date</th>\n",
       "      <th></th>\n",
       "      <th></th>\n",
       "      <th></th>\n",
       "      <th></th>\n",
       "      <th></th>\n",
       "      <th></th>\n",
       "      <th></th>\n",
       "      <th></th>\n",
       "      <th></th>\n",
       "      <th></th>\n",
       "      <th></th>\n",
       "      <th></th>\n",
       "      <th></th>\n",
       "      <th></th>\n",
       "      <th></th>\n",
       "      <th></th>\n",
       "      <th></th>\n",
       "      <th></th>\n",
       "      <th></th>\n",
       "      <th></th>\n",
       "      <th></th>\n",
       "    </tr>\n",
       "  </thead>\n",
       "  <tbody>\n",
       "    <tr>\n",
       "      <th>1995-01</th>\n",
       "      <td>91448.98487</td>\n",
       "      <td>50460.22660</td>\n",
       "      <td>93284.51832</td>\n",
       "      <td>64958.09036</td>\n",
       "      <td>71306.56698</td>\n",
       "      <td>81671.47692</td>\n",
       "      <td>120932.8881</td>\n",
       "      <td>69158.16225</td>\n",
       "      <td>79885.89069</td>\n",
       "      <td>72514.69096</td>\n",
       "      <td>...</td>\n",
       "      <td>72189.58437</td>\n",
       "      <td>109326.1245</td>\n",
       "      <td>67885.20344</td>\n",
       "      <td>71536.97357</td>\n",
       "      <td>59865.18995</td>\n",
       "      <td>61319.44913</td>\n",
       "      <td>88559.04381</td>\n",
       "      <td>133025.2772</td>\n",
       "      <td>74435.76052</td>\n",
       "      <td>53202.77128</td>\n",
       "    </tr>\n",
       "    <tr>\n",
       "      <th>1995-02</th>\n",
       "      <td>82202.77314</td>\n",
       "      <td>51085.77983</td>\n",
       "      <td>93190.16963</td>\n",
       "      <td>64787.92069</td>\n",
       "      <td>72022.26197</td>\n",
       "      <td>81657.55944</td>\n",
       "      <td>119508.8622</td>\n",
       "      <td>68951.09542</td>\n",
       "      <td>80897.06551</td>\n",
       "      <td>73155.19746</td>\n",
       "      <td>...</td>\n",
       "      <td>72141.62610</td>\n",
       "      <td>111103.0394</td>\n",
       "      <td>64799.06480</td>\n",
       "      <td>70893.20851</td>\n",
       "      <td>62318.53353</td>\n",
       "      <td>60252.12246</td>\n",
       "      <td>88641.01678</td>\n",
       "      <td>131468.3096</td>\n",
       "      <td>72777.93709</td>\n",
       "      <td>53096.15490</td>\n",
       "    </tr>\n",
       "    <tr>\n",
       "      <th>1995-03</th>\n",
       "      <td>79120.70256</td>\n",
       "      <td>51268.96956</td>\n",
       "      <td>92247.52435</td>\n",
       "      <td>64367.49344</td>\n",
       "      <td>72015.76274</td>\n",
       "      <td>81449.31143</td>\n",
       "      <td>120282.2131</td>\n",
       "      <td>68712.44341</td>\n",
       "      <td>81379.86288</td>\n",
       "      <td>72190.44144</td>\n",
       "      <td>...</td>\n",
       "      <td>72501.35502</td>\n",
       "      <td>107325.4742</td>\n",
       "      <td>65763.29719</td>\n",
       "      <td>70306.83844</td>\n",
       "      <td>63938.67686</td>\n",
       "      <td>60871.08493</td>\n",
       "      <td>87124.81523</td>\n",
       "      <td>132260.3417</td>\n",
       "      <td>73896.84204</td>\n",
       "      <td>53201.28430</td>\n",
       "    </tr>\n",
       "  </tbody>\n",
       "</table>\n",
       "<p>3 rows × 35 columns</p>\n",
       "</div>"
      ],
      "text/plain": [
       "         City of London  Barking & Dagenham       Barnet       Bexley  \\\n",
       "date                                                                    \n",
       "1995-01     91448.98487         50460.22660  93284.51832  64958.09036   \n",
       "1995-02     82202.77314         51085.77983  93190.16963  64787.92069   \n",
       "1995-03     79120.70256         51268.96956  92247.52435  64367.49344   \n",
       "\n",
       "               Brent      Bromley       Camden      Croydon       Ealing  \\\n",
       "date                                                                       \n",
       "1995-01  71306.56698  81671.47692  120932.8881  69158.16225  79885.89069   \n",
       "1995-02  72022.26197  81657.55944  119508.8622  68951.09542  80897.06551   \n",
       "1995-03  72015.76274  81449.31143  120282.2131  68712.44341  81379.86288   \n",
       "\n",
       "             Enfield  ...    Redbridge  Richmond upon Thames    Southwark  \\\n",
       "date                  ...                                                   \n",
       "1995-01  72514.69096  ...  72189.58437           109326.1245  67885.20344   \n",
       "1995-02  73155.19746  ...  72141.62610           111103.0394  64799.06480   \n",
       "1995-03  72190.44144  ...  72501.35502           107325.4742  65763.29719   \n",
       "\n",
       "              Sutton  Tower Hamlets  Waltham Forest   Wandsworth  Westminster  \\\n",
       "date                                                                            \n",
       "1995-01  71536.97357    59865.18995     61319.44913  88559.04381  133025.2772   \n",
       "1995-02  70893.20851    62318.53353     60252.12246  88641.01678  131468.3096   \n",
       "1995-03  70306.83844    63938.67686     60871.08493  87124.81523  132260.3417   \n",
       "\n",
       "              London      England  \n",
       "date                               \n",
       "1995-01  74435.76052  53202.77128  \n",
       "1995-02  72777.93709  53096.15490  \n",
       "1995-03  73896.84204  53201.28430  \n",
       "\n",
       "[3 rows x 35 columns]"
      ]
     },
     "execution_count": 140,
     "metadata": {},
     "output_type": "execute_result"
    }
   ],
   "source": [
    "# Loading Average House Prices from The Excel File, We load all the different borough + London average + England Average\n",
    "# This dataset is quite clean already, we will use the dates as index and we will not use the 2nd row as it is empty.\n",
    "df_hp = pd.read_excel('datasets/UK_House_price_index.xlsx',sheet_name='Average price', usecols='A:AH,AS,AW', skiprows=[1])\n",
    "\n",
    "# Giving a name for the dates and renaming LONDON column to keep it consequent.\n",
    "df_hp.columns.values[0] = 'date'\n",
    "df_hp.rename(columns={'LONDON':'London'}, inplace = True)\n",
    "\n",
    "# Create a datetime series by parsing the dates.\n",
    "df_hp['date'] = pd.to_datetime(df_hp['date'], format='%d%m%Y')\n",
    "\n",
    "# Assign the date column to the index, creating a DatetimeIndex.\n",
    "df_hp.set_index('date', inplace=True)\n",
    "\n",
    "# Convert the DatetimeIndex to a PeriodIndex of month frequency.\n",
    "df_hp = df_hp.to_period('m')\n",
    "\n",
    "df_hp.head(3)"
   ]
  },
  {
   "cell_type": "code",
   "execution_count": 141,
   "metadata": {},
   "outputs": [
    {
     "data": {
      "text/html": [
       "<div>\n",
       "<style scoped>\n",
       "    .dataframe tbody tr th:only-of-type {\n",
       "        vertical-align: middle;\n",
       "    }\n",
       "\n",
       "    .dataframe tbody tr th {\n",
       "        vertical-align: top;\n",
       "    }\n",
       "\n",
       "    .dataframe thead th {\n",
       "        text-align: right;\n",
       "    }\n",
       "</style>\n",
       "<table border=\"1\" class=\"dataframe\">\n",
       "  <thead>\n",
       "    <tr style=\"text-align: right;\">\n",
       "      <th></th>\n",
       "      <th>City of London</th>\n",
       "      <th>Barking &amp; Dagenham</th>\n",
       "      <th>Barnet</th>\n",
       "      <th>Bexley</th>\n",
       "      <th>Brent</th>\n",
       "      <th>Bromley</th>\n",
       "      <th>Camden</th>\n",
       "      <th>Croydon</th>\n",
       "      <th>Ealing</th>\n",
       "      <th>Enfield</th>\n",
       "      <th>...</th>\n",
       "      <th>Redbridge</th>\n",
       "      <th>Richmond upon Thames</th>\n",
       "      <th>Southwark</th>\n",
       "      <th>Sutton</th>\n",
       "      <th>Tower Hamlets</th>\n",
       "      <th>Waltham Forest</th>\n",
       "      <th>Wandsworth</th>\n",
       "      <th>Westminster</th>\n",
       "      <th>London</th>\n",
       "      <th>England</th>\n",
       "    </tr>\n",
       "  </thead>\n",
       "  <tbody>\n",
       "    <tr>\n",
       "      <th>count</th>\n",
       "      <td>309.000000</td>\n",
       "      <td>309.000000</td>\n",
       "      <td>309.000000</td>\n",
       "      <td>309.000000</td>\n",
       "      <td>309.000000</td>\n",
       "      <td>309.000000</td>\n",
       "      <td>309.000000</td>\n",
       "      <td>309.000000</td>\n",
       "      <td>309.000000</td>\n",
       "      <td>309.000000</td>\n",
       "      <td>...</td>\n",
       "      <td>309.000000</td>\n",
       "      <td>309.000000</td>\n",
       "      <td>309.000000</td>\n",
       "      <td>309.000000</td>\n",
       "      <td>309.000000</td>\n",
       "      <td>309.000000</td>\n",
       "      <td>309.000000</td>\n",
       "      <td>3.090000e+02</td>\n",
       "      <td>309.000000</td>\n",
       "      <td>309.000000</td>\n",
       "    </tr>\n",
       "    <tr>\n",
       "      <th>mean</th>\n",
       "      <td>434962.217805</td>\n",
       "      <td>163475.617041</td>\n",
       "      <td>310665.440113</td>\n",
       "      <td>193501.414171</td>\n",
       "      <td>275885.228700</td>\n",
       "      <td>258755.803735</td>\n",
       "      <td>477184.719616</td>\n",
       "      <td>213567.874275</td>\n",
       "      <td>279859.842076</td>\n",
       "      <td>227998.368088</td>\n",
       "      <td>...</td>\n",
       "      <td>239866.417606</td>\n",
       "      <td>390286.285106</td>\n",
       "      <td>281023.238775</td>\n",
       "      <td>221346.425800</td>\n",
       "      <td>262927.335218</td>\n",
       "      <td>226162.586748</td>\n",
       "      <td>349045.014870</td>\n",
       "      <td>5.546938e+05</td>\n",
       "      <td>271093.265359</td>\n",
       "      <td>155614.030763</td>\n",
       "    </tr>\n",
       "    <tr>\n",
       "      <th>std</th>\n",
       "      <td>248226.046198</td>\n",
       "      <td>78611.892564</td>\n",
       "      <td>143884.006020</td>\n",
       "      <td>87720.631938</td>\n",
       "      <td>136811.409461</td>\n",
       "      <td>115076.069132</td>\n",
       "      <td>245542.800109</td>\n",
       "      <td>95963.126612</td>\n",
       "      <td>130956.331389</td>\n",
       "      <td>104173.293086</td>\n",
       "      <td>...</td>\n",
       "      <td>109804.834841</td>\n",
       "      <td>182107.651266</td>\n",
       "      <td>148769.203735</td>\n",
       "      <td>98005.213617</td>\n",
       "      <td>126580.570332</td>\n",
       "      <td>123403.980127</td>\n",
       "      <td>174643.535923</td>\n",
       "      <td>3.072592e+05</td>\n",
       "      <td>131997.050604</td>\n",
       "      <td>63512.238977</td>\n",
       "    </tr>\n",
       "    <tr>\n",
       "      <th>min</th>\n",
       "      <td>77101.208040</td>\n",
       "      <td>50460.226600</td>\n",
       "      <td>90107.234710</td>\n",
       "      <td>63722.700550</td>\n",
       "      <td>71306.566980</td>\n",
       "      <td>81124.412270</td>\n",
       "      <td>115418.839600</td>\n",
       "      <td>68006.007350</td>\n",
       "      <td>79272.346180</td>\n",
       "      <td>70630.779550</td>\n",
       "      <td>...</td>\n",
       "      <td>72141.626100</td>\n",
       "      <td>106875.000000</td>\n",
       "      <td>60885.984830</td>\n",
       "      <td>69290.690040</td>\n",
       "      <td>59865.189950</td>\n",
       "      <td>60252.122460</td>\n",
       "      <td>86518.059450</td>\n",
       "      <td>1.314683e+05</td>\n",
       "      <td>72777.937090</td>\n",
       "      <td>52333.225120</td>\n",
       "    </tr>\n",
       "    <tr>\n",
       "      <th>25%</th>\n",
       "      <td>242434.957000</td>\n",
       "      <td>86732.496610</td>\n",
       "      <td>181194.255600</td>\n",
       "      <td>113776.317800</td>\n",
       "      <td>155900.403800</td>\n",
       "      <td>160098.087400</td>\n",
       "      <td>273059.335000</td>\n",
       "      <td>129021.610700</td>\n",
       "      <td>168654.825100</td>\n",
       "      <td>134910.238300</td>\n",
       "      <td>...</td>\n",
       "      <td>139840.349200</td>\n",
       "      <td>243683.747600</td>\n",
       "      <td>165831.629800</td>\n",
       "      <td>135751.013400</td>\n",
       "      <td>163245.776800</td>\n",
       "      <td>116171.266500</td>\n",
       "      <td>207819.677500</td>\n",
       "      <td>2.925149e+05</td>\n",
       "      <td>158760.177100</td>\n",
       "      <td>89980.133540</td>\n",
       "    </tr>\n",
       "    <tr>\n",
       "      <th>50%</th>\n",
       "      <td>393361.415800</td>\n",
       "      <td>164000.407000</td>\n",
       "      <td>309910.100500</td>\n",
       "      <td>196623.085400</td>\n",
       "      <td>268663.190700</td>\n",
       "      <td>258655.338400</td>\n",
       "      <td>451643.047700</td>\n",
       "      <td>213550.955700</td>\n",
       "      <td>277405.596500</td>\n",
       "      <td>228464.972300</td>\n",
       "      <td>...</td>\n",
       "      <td>242858.330300</td>\n",
       "      <td>375899.905100</td>\n",
       "      <td>264173.180300</td>\n",
       "      <td>222170.195700</td>\n",
       "      <td>264492.338500</td>\n",
       "      <td>214784.103100</td>\n",
       "      <td>347565.013700</td>\n",
       "      <td>5.204358e+05</td>\n",
       "      <td>266836.526800</td>\n",
       "      <td>174161.201500</td>\n",
       "    </tr>\n",
       "    <tr>\n",
       "      <th>75%</th>\n",
       "      <td>665262.157900</td>\n",
       "      <td>196257.365600</td>\n",
       "      <td>414854.682700</td>\n",
       "      <td>232024.241200</td>\n",
       "      <td>379175.290100</td>\n",
       "      <td>327862.639900</td>\n",
       "      <td>728941.979000</td>\n",
       "      <td>265666.871800</td>\n",
       "      <td>384904.479800</td>\n",
       "      <td>281240.720700</td>\n",
       "      <td>...</td>\n",
       "      <td>291686.776600</td>\n",
       "      <td>554545.760900</td>\n",
       "      <td>401255.758700</td>\n",
       "      <td>277918.073200</td>\n",
       "      <td>376185.402200</td>\n",
       "      <td>295647.103800</td>\n",
       "      <td>529299.892800</td>\n",
       "      <td>8.903202e+05</td>\n",
       "      <td>375336.803100</td>\n",
       "      <td>194763.901300</td>\n",
       "    </tr>\n",
       "    <tr>\n",
       "      <th>max</th>\n",
       "      <td>939911.647300</td>\n",
       "      <td>306390.264300</td>\n",
       "      <td>549401.174400</td>\n",
       "      <td>348109.949300</td>\n",
       "      <td>522324.058400</td>\n",
       "      <td>449292.941540</td>\n",
       "      <td>890288.405600</td>\n",
       "      <td>381139.237600</td>\n",
       "      <td>506143.138500</td>\n",
       "      <td>404441.662400</td>\n",
       "      <td>...</td>\n",
       "      <td>432138.296500</td>\n",
       "      <td>700186.641300</td>\n",
       "      <td>535685.068800</td>\n",
       "      <td>387410.107910</td>\n",
       "      <td>476814.412700</td>\n",
       "      <td>461726.973100</td>\n",
       "      <td>633826.050000</td>\n",
       "      <td>1.117408e+06</td>\n",
       "      <td>496484.651900</td>\n",
       "      <td>261795.298100</td>\n",
       "    </tr>\n",
       "  </tbody>\n",
       "</table>\n",
       "<p>8 rows × 35 columns</p>\n",
       "</div>"
      ],
      "text/plain": [
       "       City of London  Barking & Dagenham         Barnet         Bexley  \\\n",
       "count      309.000000          309.000000     309.000000     309.000000   \n",
       "mean    434962.217805       163475.617041  310665.440113  193501.414171   \n",
       "std     248226.046198        78611.892564  143884.006020   87720.631938   \n",
       "min      77101.208040        50460.226600   90107.234710   63722.700550   \n",
       "25%     242434.957000        86732.496610  181194.255600  113776.317800   \n",
       "50%     393361.415800       164000.407000  309910.100500  196623.085400   \n",
       "75%     665262.157900       196257.365600  414854.682700  232024.241200   \n",
       "max     939911.647300       306390.264300  549401.174400  348109.949300   \n",
       "\n",
       "               Brent        Bromley         Camden        Croydon  \\\n",
       "count     309.000000     309.000000     309.000000     309.000000   \n",
       "mean   275885.228700  258755.803735  477184.719616  213567.874275   \n",
       "std    136811.409461  115076.069132  245542.800109   95963.126612   \n",
       "min     71306.566980   81124.412270  115418.839600   68006.007350   \n",
       "25%    155900.403800  160098.087400  273059.335000  129021.610700   \n",
       "50%    268663.190700  258655.338400  451643.047700  213550.955700   \n",
       "75%    379175.290100  327862.639900  728941.979000  265666.871800   \n",
       "max    522324.058400  449292.941540  890288.405600  381139.237600   \n",
       "\n",
       "              Ealing        Enfield  ...      Redbridge  Richmond upon Thames  \\\n",
       "count     309.000000     309.000000  ...     309.000000            309.000000   \n",
       "mean   279859.842076  227998.368088  ...  239866.417606         390286.285106   \n",
       "std    130956.331389  104173.293086  ...  109804.834841         182107.651266   \n",
       "min     79272.346180   70630.779550  ...   72141.626100         106875.000000   \n",
       "25%    168654.825100  134910.238300  ...  139840.349200         243683.747600   \n",
       "50%    277405.596500  228464.972300  ...  242858.330300         375899.905100   \n",
       "75%    384904.479800  281240.720700  ...  291686.776600         554545.760900   \n",
       "max    506143.138500  404441.662400  ...  432138.296500         700186.641300   \n",
       "\n",
       "           Southwark         Sutton  Tower Hamlets  Waltham Forest  \\\n",
       "count     309.000000     309.000000     309.000000      309.000000   \n",
       "mean   281023.238775  221346.425800  262927.335218   226162.586748   \n",
       "std    148769.203735   98005.213617  126580.570332   123403.980127   \n",
       "min     60885.984830   69290.690040   59865.189950    60252.122460   \n",
       "25%    165831.629800  135751.013400  163245.776800   116171.266500   \n",
       "50%    264173.180300  222170.195700  264492.338500   214784.103100   \n",
       "75%    401255.758700  277918.073200  376185.402200   295647.103800   \n",
       "max    535685.068800  387410.107910  476814.412700   461726.973100   \n",
       "\n",
       "          Wandsworth   Westminster         London        England  \n",
       "count     309.000000  3.090000e+02     309.000000     309.000000  \n",
       "mean   349045.014870  5.546938e+05  271093.265359  155614.030763  \n",
       "std    174643.535923  3.072592e+05  131997.050604   63512.238977  \n",
       "min     86518.059450  1.314683e+05   72777.937090   52333.225120  \n",
       "25%    207819.677500  2.925149e+05  158760.177100   89980.133540  \n",
       "50%    347565.013700  5.204358e+05  266836.526800  174161.201500  \n",
       "75%    529299.892800  8.903202e+05  375336.803100  194763.901300  \n",
       "max    633826.050000  1.117408e+06  496484.651900  261795.298100  \n",
       "\n",
       "[8 rows x 35 columns]"
      ]
     },
     "execution_count": 141,
     "metadata": {},
     "output_type": "execute_result"
    }
   ],
   "source": [
    "df_hp.describe()"
   ]
  },
  {
   "cell_type": "code",
   "execution_count": 142,
   "metadata": {},
   "outputs": [
    {
     "name": "stdout",
     "output_type": "stream",
     "text": [
      "<class 'pandas.core.frame.DataFrame'>\n",
      "PeriodIndex: 309 entries, 1995-01 to 2020-09\n",
      "Freq: M\n",
      "Data columns (total 35 columns):\n",
      " #   Column                Non-Null Count  Dtype  \n",
      "---  ------                --------------  -----  \n",
      " 0   City of London        309 non-null    float64\n",
      " 1   Barking & Dagenham    309 non-null    float64\n",
      " 2   Barnet                309 non-null    float64\n",
      " 3   Bexley                309 non-null    float64\n",
      " 4   Brent                 309 non-null    float64\n",
      " 5   Bromley               309 non-null    float64\n",
      " 6   Camden                309 non-null    float64\n",
      " 7   Croydon               309 non-null    float64\n",
      " 8   Ealing                309 non-null    float64\n",
      " 9   Enfield               309 non-null    float64\n",
      " 10  Greenwich             309 non-null    float64\n",
      " 11  Hackney               309 non-null    float64\n",
      " 12  Hammersmith & Fulham  309 non-null    float64\n",
      " 13  Haringey              309 non-null    float64\n",
      " 14  Harrow                309 non-null    float64\n",
      " 15  Havering              309 non-null    float64\n",
      " 16  Hillingdon            309 non-null    float64\n",
      " 17  Hounslow              309 non-null    float64\n",
      " 18  Islington             309 non-null    float64\n",
      " 19  Kensington & Chelsea  309 non-null    float64\n",
      " 20  Kingston upon Thames  309 non-null    float64\n",
      " 21  Lambeth               309 non-null    float64\n",
      " 22  Lewisham              309 non-null    float64\n",
      " 23  Merton                309 non-null    float64\n",
      " 24  Newham                309 non-null    float64\n",
      " 25  Redbridge             309 non-null    float64\n",
      " 26  Richmond upon Thames  309 non-null    float64\n",
      " 27  Southwark             309 non-null    float64\n",
      " 28  Sutton                309 non-null    float64\n",
      " 29  Tower Hamlets         309 non-null    float64\n",
      " 30  Waltham Forest        309 non-null    float64\n",
      " 31  Wandsworth            309 non-null    float64\n",
      " 32  Westminster           309 non-null    float64\n",
      " 33  London                309 non-null    float64\n",
      " 34  England               309 non-null    float64\n",
      "dtypes: float64(35)\n",
      "memory usage: 86.9 KB\n"
     ]
    }
   ],
   "source": [
    "df_hp.info()"
   ]
  },
  {
   "cell_type": "markdown",
   "metadata": {},
   "source": [
    "> We have 35 Columns each having 309 values which represents the avarage price in the area at the given dates. Luckily our dataset is complete and we have no null values."
   ]
  },
  {
   "cell_type": "markdown",
   "metadata": {},
   "source": [
    "## 2. Analysis"
   ]
  },
  {
   "cell_type": "markdown",
   "metadata": {},
   "source": [
    "### 2.1. Comparing London average house prices with England average house prices over the years."
   ]
  },
  {
   "cell_type": "markdown",
   "metadata": {},
   "source": [
    "#### To start with I will plot the average of London house prices with England to see difference."
   ]
  },
  {
   "cell_type": "code",
   "execution_count": 143,
   "metadata": {},
   "outputs": [
    {
     "data": {
      "image/png": "[encoded data removed]",
      "text/plain": [
       "<Figure size 432x288 with 1 Axes>"
      ]
     },
     "metadata": {
      "needs_background": "light"
     },
     "output_type": "display_data"
    }
   ],
   "source": [
    "# I select only the England and London Column to compare only these two.\n",
    "df_hp_london_england = df_hp[['London','England']]\n",
    "# Plotting the dataframe.\n",
    "ax = df_hp_london_england.plot(grid=True)\n",
    "# Setting y axis format\n",
    "ax.yaxis.set_major_formatter(mpl.ticker.EngFormatter(places=0))\n",
    "ax.legend(bbox_to_anchor=(1.0, 1.0))\n",
    "ax.set_title('Comparing London and England House Prices')\n",
    "ax.set_ylabel('House Prices in £')\n",
    "plt.show()"
   ]
  },
  {
   "cell_type": "markdown",
   "metadata": {},
   "source": [
    "> From this graph we can see that England and London has followed the same trends as house prices have increased but the average of London house prices have been always significantly more expensive than the England average. We can also see the prices have almost always increased time to time but between 2007 and 2009 the prices have dropped. This is due the Great Recession which was a period when the national economies globally marked a general decline. We can also see another decrease in London around 2016 and 2017 this is when the Brexit was voted but opposed to London, the England average has continued its increase."
   ]
  },
  {
   "cell_type": "markdown",
   "metadata": {},
   "source": [
    "#### Now I will demonstrate how the difference between the average of London and the average of England has changed over the years."
   ]
  },
  {
   "cell_type": "code",
   "execution_count": 144,
   "metadata": {
    "scrolled": true
   },
   "outputs": [
    {
     "data": {
      "image/png": "[encoded data removed]",
      "text/plain": [
       "<Figure size 432x288 with 1 Axes>"
      ]
     },
     "metadata": {
      "needs_background": "light"
     },
     "output_type": "display_data"
    },
    {
     "data": {
      "image/png": "[encoded data removed]",
      "text/plain": [
       "<Figure size 432x288 with 1 Axes>"
      ]
     },
     "metadata": {
      "needs_background": "light"
     },
     "output_type": "display_data"
    }
   ],
   "source": [
    "# Creating a dataframe with the price difference\n",
    "df_hp_difference = df_hp['London'] - df_hp['England']\n",
    "ax1 = df_hp_difference.plot(grid=True)\n",
    "ax1.yaxis.set_major_formatter(mpl.ticker.EngFormatter(places=0))\n",
    "ax1.set_title('Difference in £')\n",
    "plt.show()\n",
    "\n",
    "# Creating a dataframe with percentage different.\n",
    "df_hp_percentage = df_hp['London'] / df_hp['England']\n",
    "ax2 = df_hp_percentage.plot(grid=True)\n",
    "ax2.set_title('Difference in %')\n",
    "# Setting yaxis labels to percentage\n",
    "ax2.yaxis.set_major_formatter(mpl.ticker.PercentFormatter(1))\n",
    "plt.show()"
   ]
  },
  {
   "cell_type": "markdown",
   "metadata": {},
   "source": [
    "> From the 1st graph we can see that the higher the prices went up the bigger the gap was between England and London house prices, however if we have a look at the second graph we can tell that we can see that in percentage this was not the case. Around 2001-2002 England house prices has started getting significantly closer to London prices. This means while the the price difference was still increasing the difference in % has decreased. In 2002 an average London house price was 1.75 times as much as an average England house in 2006 this has decreased to 1.42, which is a large difference. In 2006 the difference has started rising sharply again. In 2016 an average London house cost twice as much as an England house. From this diagram we can easily tell that Brexit referendum had a much larger impact on London house prices. "
   ]
  },
  {
   "cell_type": "markdown",
   "metadata": {},
   "source": [
    "#### In my next diagram I will compare the London borough where the mean price was the lowest over the years with England house prices."
   ]
  },
  {
   "cell_type": "code",
   "execution_count": 145,
   "metadata": {},
   "outputs": [
    {
     "data": {
      "text/html": [
       "<div>\n",
       "<style scoped>\n",
       "    .dataframe tbody tr th:only-of-type {\n",
       "        vertical-align: middle;\n",
       "    }\n",
       "\n",
       "    .dataframe tbody tr th {\n",
       "        vertical-align: top;\n",
       "    }\n",
       "\n",
       "    .dataframe thead th {\n",
       "        text-align: right;\n",
       "    }\n",
       "</style>\n",
       "<table border=\"1\" class=\"dataframe\">\n",
       "  <thead>\n",
       "    <tr style=\"text-align: right;\">\n",
       "      <th></th>\n",
       "      <th>Barking &amp; Dagenham</th>\n",
       "      <th>England</th>\n",
       "    </tr>\n",
       "    <tr>\n",
       "      <th>date</th>\n",
       "      <th></th>\n",
       "      <th></th>\n",
       "    </tr>\n",
       "  </thead>\n",
       "  <tbody>\n",
       "    <tr>\n",
       "      <th>1995-01</th>\n",
       "      <td>50460.22660</td>\n",
       "      <td>53202.77128</td>\n",
       "    </tr>\n",
       "    <tr>\n",
       "      <th>1995-02</th>\n",
       "      <td>51085.77983</td>\n",
       "      <td>53096.15490</td>\n",
       "    </tr>\n",
       "    <tr>\n",
       "      <th>1995-03</th>\n",
       "      <td>51268.96956</td>\n",
       "      <td>53201.28430</td>\n",
       "    </tr>\n",
       "  </tbody>\n",
       "</table>\n",
       "</div>"
      ],
      "text/plain": [
       "         Barking & Dagenham      England\n",
       "date                                    \n",
       "1995-01         50460.22660  53202.77128\n",
       "1995-02         51085.77983  53096.15490\n",
       "1995-03         51268.96956  53201.28430"
      ]
     },
     "execution_count": 145,
     "metadata": {},
     "output_type": "execute_result"
    }
   ],
   "source": [
    "#Creating a dataframe without England and London columns.\n",
    "df_hp_london = df_hp.drop(labels=['England', 'London'],axis=1)\n",
    "\n",
    "# Calculating the mean values for each Borough\n",
    "london_mean = df_hp_london.mean()\n",
    "\n",
    "# Returning the name of the borough where the mean was smallest.\n",
    "lowest = london_mean[london_mean==london_mean.min()].index[0]\n",
    "\n",
    "# Now we have the lowest value and England in a dateframe\n",
    "df_hp[[lowest,'England']].head(3)"
   ]
  },
  {
   "cell_type": "code",
   "execution_count": 146,
   "metadata": {},
   "outputs": [
    {
     "data": {
      "image/png": "[encoded data removed]",
      "text/plain": [
       "<Figure size 432x288 with 1 Axes>"
      ]
     },
     "metadata": {
      "needs_background": "light"
     },
     "output_type": "display_data"
    }
   ],
   "source": [
    "# Selecting the lowest mean and England\n",
    "# Plotting the dataframe.\n",
    "ax = df_hp[[lowest,'England']].plot(grid=True)\n",
    "# Setting y axis format\n",
    "ax.yaxis.set_major_formatter(mpl.ticker.EngFormatter(places=0))\n",
    "ax.legend(bbox_to_anchor=(1.0, 1.0))\n",
    "ax.set_title('Comparing England House Prices with the borough which had the lowest mean over the years')\n",
    "ax.set_ylabel('House Prices in £')\n",
    "plt.show()"
   ]
  },
  {
   "cell_type": "markdown",
   "metadata": {},
   "source": [
    " > It is an interesting comparisation where we can see that even the borough with the lowest mean in London over the years has very similar price history as England average but since 2014 the difference has grown considerably towards Barking & Dagenham and nowadays prices are 25% higher on average than in England."
   ]
  },
  {
   "cell_type": "markdown",
   "metadata": {},
   "source": [
    "### 2.2. Examining Current Market Situation in London"
   ]
  },
  {
   "cell_type": "code",
   "execution_count": 147,
   "metadata": {},
   "outputs": [
    {
     "data": {
      "text/html": [
       "<div>\n",
       "<style scoped>\n",
       "    .dataframe tbody tr th:only-of-type {\n",
       "        vertical-align: middle;\n",
       "    }\n",
       "\n",
       "    .dataframe tbody tr th {\n",
       "        vertical-align: top;\n",
       "    }\n",
       "\n",
       "    .dataframe thead th {\n",
       "        text-align: right;\n",
       "    }\n",
       "</style>\n",
       "<table border=\"1\" class=\"dataframe\">\n",
       "  <thead>\n",
       "    <tr style=\"text-align: right;\">\n",
       "      <th></th>\n",
       "      <th>price</th>\n",
       "    </tr>\n",
       "    <tr>\n",
       "      <th>borough</th>\n",
       "      <th></th>\n",
       "    </tr>\n",
       "  </thead>\n",
       "  <tbody>\n",
       "    <tr>\n",
       "      <th>City of London</th>\n",
       "      <td>793046.3438</td>\n",
       "    </tr>\n",
       "    <tr>\n",
       "      <th>Barking &amp; Dagenham</th>\n",
       "      <td>303389.1591</td>\n",
       "    </tr>\n",
       "    <tr>\n",
       "      <th>Barnet</th>\n",
       "      <td>535339.6976</td>\n",
       "    </tr>\n",
       "    <tr>\n",
       "      <th>Bexley</th>\n",
       "      <td>343469.5714</td>\n",
       "    </tr>\n",
       "    <tr>\n",
       "      <th>Brent</th>\n",
       "      <td>522324.0584</td>\n",
       "    </tr>\n",
       "  </tbody>\n",
       "</table>\n",
       "</div>"
      ],
      "text/plain": [
       "                          price\n",
       "borough                        \n",
       "City of London      793046.3438\n",
       "Barking & Dagenham  303389.1591\n",
       "Barnet              535339.6976\n",
       "Bexley              343469.5714\n",
       "Brent               522324.0584"
      ]
     },
     "execution_count": 147,
     "metadata": {},
     "output_type": "execute_result"
    }
   ],
   "source": [
    "# Creating a dataframe for our test available date and in our dataset, which should be September 2020 in our dataset\n",
    "df_latest = pd.DataFrame(df_hp.loc[df_hp.index.max()])\n",
    "# Droping England, and London to leave only London Boroughs\n",
    "df_latest.drop(labels=['England','London'], inplace=True)\n",
    "# Renaming index column to Borough\n",
    "df_latest.index.name = 'borough'\n",
    "# Renaming 2020-09 column to price\n",
    "df_latest.columns = ['price']\n",
    "\n",
    "df_latest.head(5)"
   ]
  },
  {
   "cell_type": "code",
   "execution_count": 148,
   "metadata": {},
   "outputs": [
    {
     "data": {
      "text/html": [
       "<div>\n",
       "<style scoped>\n",
       "    .dataframe tbody tr th:only-of-type {\n",
       "        vertical-align: middle;\n",
       "    }\n",
       "\n",
       "    .dataframe tbody tr th {\n",
       "        vertical-align: top;\n",
       "    }\n",
       "\n",
       "    .dataframe thead th {\n",
       "        text-align: right;\n",
       "    }\n",
       "</style>\n",
       "<table border=\"1\" class=\"dataframe\">\n",
       "  <thead>\n",
       "    <tr style=\"text-align: right;\">\n",
       "      <th></th>\n",
       "      <th>price</th>\n",
       "    </tr>\n",
       "    <tr>\n",
       "      <th>borough</th>\n",
       "      <th></th>\n",
       "    </tr>\n",
       "  </thead>\n",
       "  <tbody>\n",
       "    <tr>\n",
       "      <th>Barking &amp; Dagenham</th>\n",
       "      <td>303389.1591</td>\n",
       "    </tr>\n",
       "    <tr>\n",
       "      <th>Bexley</th>\n",
       "      <td>343469.5714</td>\n",
       "    </tr>\n",
       "    <tr>\n",
       "      <th>Havering</th>\n",
       "      <td>377664.5601</td>\n",
       "    </tr>\n",
       "    <tr>\n",
       "      <th>Croydon</th>\n",
       "      <td>381139.2376</td>\n",
       "    </tr>\n",
       "    <tr>\n",
       "      <th>Newham</th>\n",
       "      <td>382662.3192</td>\n",
       "    </tr>\n",
       "  </tbody>\n",
       "</table>\n",
       "</div>"
      ],
      "text/plain": [
       "                          price\n",
       "borough                        \n",
       "Barking & Dagenham  303389.1591\n",
       "Bexley              343469.5714\n",
       "Havering            377664.5601\n",
       "Croydon             381139.2376\n",
       "Newham              382662.3192"
      ]
     },
     "execution_count": 148,
     "metadata": {},
     "output_type": "execute_result"
    }
   ],
   "source": [
    "# Creating a dataset for the 5 cheapest boroughs\n",
    "df_cheapest = df_latest['price'].nsmallest(5).to_frame()\n",
    "df_cheapest"
   ]
  },
  {
   "cell_type": "markdown",
   "metadata": {},
   "source": [
    "#### Plotting the 5 cheapest borough for housing in London."
   ]
  },
  {
   "cell_type": "code",
   "execution_count": 149,
   "metadata": {},
   "outputs": [
    {
     "data": {
      "image/png": "[encoded data removed]",
      "text/plain": [
       "<Figure size 432x288 with 1 Axes>"
      ]
     },
     "metadata": {
      "needs_background": "light"
     },
     "output_type": "display_data"
    }
   ],
   "source": [
    "ax = df_cheapest.plot(kind='barh',legend = False)\n",
    "ax.set_title('The 5 borough in London with the cheapest house prices.')\n",
    "ax.set_ylabel('Borough')\n",
    "ax.set_xlabel('Price in £')\n",
    "ax.xaxis.set_major_formatter(mpl.ticker.EngFormatter(places=0))\n",
    "plt.show()"
   ]
  },
  {
   "cell_type": "markdown",
   "metadata": {},
   "source": [
    "> This Bar Chart Clearly Shows that the borough where the house prices are the lowest is Barking & Dagenham according to our last available data. This means it not just had the lowest average price over the years but it offers the cheapest housing prices on average currently. Meaning there are no areas in London which would have lower prices than the England average."
   ]
  },
  {
   "cell_type": "markdown",
   "metadata": {},
   "source": [
    "#### Plotting the 5  borough which has the highest housing prices."
   ]
  },
  {
   "cell_type": "code",
   "execution_count": 150,
   "metadata": {},
   "outputs": [
    {
     "data": {
      "text/html": [
       "<div>\n",
       "<style scoped>\n",
       "    .dataframe tbody tr th:only-of-type {\n",
       "        vertical-align: middle;\n",
       "    }\n",
       "\n",
       "    .dataframe tbody tr th {\n",
       "        vertical-align: top;\n",
       "    }\n",
       "\n",
       "    .dataframe thead th {\n",
       "        text-align: right;\n",
       "    }\n",
       "</style>\n",
       "<table border=\"1\" class=\"dataframe\">\n",
       "  <thead>\n",
       "    <tr style=\"text-align: right;\">\n",
       "      <th></th>\n",
       "      <th>price</th>\n",
       "    </tr>\n",
       "    <tr>\n",
       "      <th>borough</th>\n",
       "      <th></th>\n",
       "    </tr>\n",
       "  </thead>\n",
       "  <tbody>\n",
       "    <tr>\n",
       "      <th>Kensington &amp; Chelsea</th>\n",
       "      <td>1.346456e+06</td>\n",
       "    </tr>\n",
       "    <tr>\n",
       "      <th>Westminster</th>\n",
       "      <td>9.250039e+05</td>\n",
       "    </tr>\n",
       "    <tr>\n",
       "      <th>Camden</th>\n",
       "      <td>8.131545e+05</td>\n",
       "    </tr>\n",
       "    <tr>\n",
       "      <th>City of London</th>\n",
       "      <td>7.930463e+05</td>\n",
       "    </tr>\n",
       "    <tr>\n",
       "      <th>Hammersmith &amp; Fulham</th>\n",
       "      <td>7.795704e+05</td>\n",
       "    </tr>\n",
       "  </tbody>\n",
       "</table>\n",
       "</div>"
      ],
      "text/plain": [
       "                             price\n",
       "borough                           \n",
       "Kensington & Chelsea  1.346456e+06\n",
       "Westminster           9.250039e+05\n",
       "Camden                8.131545e+05\n",
       "City of London        7.930463e+05\n",
       "Hammersmith & Fulham  7.795704e+05"
      ]
     },
     "execution_count": 150,
     "metadata": {},
     "output_type": "execute_result"
    }
   ],
   "source": [
    "df_expensive = df_latest['price'].nlargest(5).to_frame()\n",
    "df_expensive"
   ]
  },
  {
   "cell_type": "code",
   "execution_count": 151,
   "metadata": {},
   "outputs": [
    {
     "data": {
      "image/png": "[encoded data removed]",
      "text/plain": [
       "<Figure size 432x288 with 1 Axes>"
      ]
     },
     "metadata": {
      "needs_background": "light"
     },
     "output_type": "display_data"
    }
   ],
   "source": [
    "ax = df_expensive.plot(kind='barh',legend = False)\n",
    "ax.set_title('The 5 most expensive borough for housing in London.')\n",
    "ax.set_ylabel('Borough')\n",
    "ax.set_xlabel('Price in £')\n",
    "ax.xaxis.set_major_formatter(mpl.ticker.EngFormatter(places=1))\n",
    "plt.show()"
   ]
  },
  {
   "cell_type": "markdown",
   "metadata": {},
   "source": [
    "> This bar chart shows that Kensington & Chealsea average house prices are much more expensive than anywhere else in London. With an average of around £1.35."
   ]
  },
  {
   "cell_type": "markdown",
   "metadata": {},
   "source": [
    "#### Now I will plot a choropleth map for London house prices.\n",
    "For this I need to load another dataset"
   ]
  },
  {
   "cell_type": "code",
   "execution_count": 152,
   "metadata": {},
   "outputs": [
    {
     "data": {
      "text/html": [
       "<div>\n",
       "<style scoped>\n",
       "    .dataframe tbody tr th:only-of-type {\n",
       "        vertical-align: middle;\n",
       "    }\n",
       "\n",
       "    .dataframe tbody tr th {\n",
       "        vertical-align: top;\n",
       "    }\n",
       "\n",
       "    .dataframe thead th {\n",
       "        text-align: right;\n",
       "    }\n",
       "</style>\n",
       "<table border=\"1\" class=\"dataframe\">\n",
       "  <thead>\n",
       "    <tr style=\"text-align: right;\">\n",
       "      <th></th>\n",
       "      <th>GSS_CODE</th>\n",
       "      <th>HECTARES</th>\n",
       "      <th>NONLD_AREA</th>\n",
       "      <th>ONS_INNER</th>\n",
       "      <th>SUB_2009</th>\n",
       "      <th>SUB_2006</th>\n",
       "      <th>geometry</th>\n",
       "    </tr>\n",
       "    <tr>\n",
       "      <th>NAME</th>\n",
       "      <th></th>\n",
       "      <th></th>\n",
       "      <th></th>\n",
       "      <th></th>\n",
       "      <th></th>\n",
       "      <th></th>\n",
       "      <th></th>\n",
       "    </tr>\n",
       "  </thead>\n",
       "  <tbody>\n",
       "    <tr>\n",
       "      <th>Kingston upon Thames</th>\n",
       "      <td>E09000021</td>\n",
       "      <td>3726.117</td>\n",
       "      <td>0.000</td>\n",
       "      <td>F</td>\n",
       "      <td>None</td>\n",
       "      <td>None</td>\n",
       "      <td>POLYGON ((516401.600 160201.800, 516407.300 16...</td>\n",
       "    </tr>\n",
       "    <tr>\n",
       "      <th>Croydon</th>\n",
       "      <td>E09000008</td>\n",
       "      <td>8649.441</td>\n",
       "      <td>0.000</td>\n",
       "      <td>F</td>\n",
       "      <td>None</td>\n",
       "      <td>None</td>\n",
       "      <td>POLYGON ((535009.200 159504.700, 535005.500 15...</td>\n",
       "    </tr>\n",
       "    <tr>\n",
       "      <th>Bromley</th>\n",
       "      <td>E09000006</td>\n",
       "      <td>15013.487</td>\n",
       "      <td>0.000</td>\n",
       "      <td>F</td>\n",
       "      <td>None</td>\n",
       "      <td>None</td>\n",
       "      <td>POLYGON ((540373.600 157530.400, 540361.200 15...</td>\n",
       "    </tr>\n",
       "    <tr>\n",
       "      <th>Hounslow</th>\n",
       "      <td>E09000018</td>\n",
       "      <td>5658.541</td>\n",
       "      <td>60.755</td>\n",
       "      <td>F</td>\n",
       "      <td>None</td>\n",
       "      <td>None</td>\n",
       "      <td>POLYGON ((521975.800 178100.000, 521967.700 17...</td>\n",
       "    </tr>\n",
       "    <tr>\n",
       "      <th>Ealing</th>\n",
       "      <td>E09000009</td>\n",
       "      <td>5554.428</td>\n",
       "      <td>0.000</td>\n",
       "      <td>F</td>\n",
       "      <td>None</td>\n",
       "      <td>None</td>\n",
       "      <td>POLYGON ((510253.500 182881.600, 510249.900 18...</td>\n",
       "    </tr>\n",
       "  </tbody>\n",
       "</table>\n",
       "</div>"
      ],
      "text/plain": [
       "                       GSS_CODE   HECTARES  NONLD_AREA ONS_INNER SUB_2009  \\\n",
       "NAME                                                                        \n",
       "Kingston upon Thames  E09000021   3726.117       0.000         F     None   \n",
       "Croydon               E09000008   8649.441       0.000         F     None   \n",
       "Bromley               E09000006  15013.487       0.000         F     None   \n",
       "Hounslow              E09000018   5658.541      60.755         F     None   \n",
       "Ealing                E09000009   5554.428       0.000         F     None   \n",
       "\n",
       "                     SUB_2006  \\\n",
       "NAME                            \n",
       "Kingston upon Thames     None   \n",
       "Croydon                  None   \n",
       "Bromley                  None   \n",
       "Hounslow                 None   \n",
       "Ealing                   None   \n",
       "\n",
       "                                                               geometry  \n",
       "NAME                                                                     \n",
       "Kingston upon Thames  POLYGON ((516401.600 160201.800, 516407.300 16...  \n",
       "Croydon               POLYGON ((535009.200 159504.700, 535005.500 15...  \n",
       "Bromley               POLYGON ((540373.600 157530.400, 540361.200 15...  \n",
       "Hounslow              POLYGON ((521975.800 178100.000, 521967.700 17...  \n",
       "Ealing                POLYGON ((510253.500 182881.600, 510249.900 18...  "
      ]
     },
     "execution_count": 152,
     "metadata": {},
     "output_type": "execute_result"
    }
   ],
   "source": [
    "# loading dataset containing necessary data for maps\n",
    "# This data is already cleaned and ready to use.\n",
    "fp = 'datasets/statistical-gis-boundaries-london/ESRI/London_Borough_Excluding_MHW.shp'\n",
    "map_df = gpd.read_file(fp)\n",
    "\n",
    "# Setting name as Index\n",
    "map_df.set_index('NAME', inplace=True)\n",
    "\n",
    "# Renaming some of the boroughs before melting them together.\n",
    "map_df.rename(index={'Hammersmith and Fulham':'Hammersmith & Fulham', 'Kensington and Chelsea': 'Kensington & Chelsea', 'Barking and Dagenham':'Barking & Dagenham'},errors='raise',inplace=True)\n",
    "\n",
    "map_df.head()"
   ]
  },
  {
   "cell_type": "code",
   "execution_count": 153,
   "metadata": {},
   "outputs": [
    {
     "data": {
      "text/plain": [
       "<matplotlib.axes._subplots.AxesSubplot at 0x7fb881773850>"
      ]
     },
     "execution_count": 153,
     "metadata": {},
     "output_type": "execute_result"
    },
    {
     "data": {
      "image/png": "[encoded data removed]",
      "text/plain": [
       "<Figure size 432x288 with 1 Axes>"
      ]
     },
     "metadata": {
      "needs_background": "light"
     },
     "output_type": "display_data"
    }
   ],
   "source": [
    "#plotting London map.\n",
    "map_df.plot()"
   ]
  },
  {
   "cell_type": "code",
   "execution_count": 154,
   "metadata": {},
   "outputs": [
    {
     "data": {
      "text/html": [
       "<div>\n",
       "<style scoped>\n",
       "    .dataframe tbody tr th:only-of-type {\n",
       "        vertical-align: middle;\n",
       "    }\n",
       "\n",
       "    .dataframe tbody tr th {\n",
       "        vertical-align: top;\n",
       "    }\n",
       "\n",
       "    .dataframe thead th {\n",
       "        text-align: right;\n",
       "    }\n",
       "</style>\n",
       "<table border=\"1\" class=\"dataframe\">\n",
       "  <thead>\n",
       "    <tr style=\"text-align: right;\">\n",
       "      <th></th>\n",
       "      <th>GSS_CODE</th>\n",
       "      <th>HECTARES</th>\n",
       "      <th>NONLD_AREA</th>\n",
       "      <th>ONS_INNER</th>\n",
       "      <th>SUB_2009</th>\n",
       "      <th>SUB_2006</th>\n",
       "      <th>geometry</th>\n",
       "      <th>price</th>\n",
       "    </tr>\n",
       "    <tr>\n",
       "      <th>NAME</th>\n",
       "      <th></th>\n",
       "      <th></th>\n",
       "      <th></th>\n",
       "      <th></th>\n",
       "      <th></th>\n",
       "      <th></th>\n",
       "      <th></th>\n",
       "      <th></th>\n",
       "    </tr>\n",
       "  </thead>\n",
       "  <tbody>\n",
       "    <tr>\n",
       "      <th>Kingston upon Thames</th>\n",
       "      <td>E09000021</td>\n",
       "      <td>3726.117</td>\n",
       "      <td>0.000</td>\n",
       "      <td>F</td>\n",
       "      <td>None</td>\n",
       "      <td>None</td>\n",
       "      <td>POLYGON ((516401.600 160201.800, 516407.300 16...</td>\n",
       "      <td>502407.2465</td>\n",
       "    </tr>\n",
       "    <tr>\n",
       "      <th>Croydon</th>\n",
       "      <td>E09000008</td>\n",
       "      <td>8649.441</td>\n",
       "      <td>0.000</td>\n",
       "      <td>F</td>\n",
       "      <td>None</td>\n",
       "      <td>None</td>\n",
       "      <td>POLYGON ((535009.200 159504.700, 535005.500 15...</td>\n",
       "      <td>381139.2376</td>\n",
       "    </tr>\n",
       "    <tr>\n",
       "      <th>Bromley</th>\n",
       "      <td>E09000006</td>\n",
       "      <td>15013.487</td>\n",
       "      <td>0.000</td>\n",
       "      <td>F</td>\n",
       "      <td>None</td>\n",
       "      <td>None</td>\n",
       "      <td>POLYGON ((540373.600 157530.400, 540361.200 15...</td>\n",
       "      <td>445218.7958</td>\n",
       "    </tr>\n",
       "    <tr>\n",
       "      <th>Hounslow</th>\n",
       "      <td>E09000018</td>\n",
       "      <td>5658.541</td>\n",
       "      <td>60.755</td>\n",
       "      <td>F</td>\n",
       "      <td>None</td>\n",
       "      <td>None</td>\n",
       "      <td>POLYGON ((521975.800 178100.000, 521967.700 17...</td>\n",
       "      <td>408631.7179</td>\n",
       "    </tr>\n",
       "    <tr>\n",
       "      <th>Ealing</th>\n",
       "      <td>E09000009</td>\n",
       "      <td>5554.428</td>\n",
       "      <td>0.000</td>\n",
       "      <td>F</td>\n",
       "      <td>None</td>\n",
       "      <td>None</td>\n",
       "      <td>POLYGON ((510253.500 182881.600, 510249.900 18...</td>\n",
       "      <td>506143.1385</td>\n",
       "    </tr>\n",
       "  </tbody>\n",
       "</table>\n",
       "</div>"
      ],
      "text/plain": [
       "                       GSS_CODE   HECTARES  NONLD_AREA ONS_INNER SUB_2009  \\\n",
       "NAME                                                                        \n",
       "Kingston upon Thames  E09000021   3726.117       0.000         F     None   \n",
       "Croydon               E09000008   8649.441       0.000         F     None   \n",
       "Bromley               E09000006  15013.487       0.000         F     None   \n",
       "Hounslow              E09000018   5658.541      60.755         F     None   \n",
       "Ealing                E09000009   5554.428       0.000         F     None   \n",
       "\n",
       "                     SUB_2006  \\\n",
       "NAME                            \n",
       "Kingston upon Thames     None   \n",
       "Croydon                  None   \n",
       "Bromley                  None   \n",
       "Hounslow                 None   \n",
       "Ealing                   None   \n",
       "\n",
       "                                                               geometry  \\\n",
       "NAME                                                                      \n",
       "Kingston upon Thames  POLYGON ((516401.600 160201.800, 516407.300 16...   \n",
       "Croydon               POLYGON ((535009.200 159504.700, 535005.500 15...   \n",
       "Bromley               POLYGON ((540373.600 157530.400, 540361.200 15...   \n",
       "Hounslow              POLYGON ((521975.800 178100.000, 521967.700 17...   \n",
       "Ealing                POLYGON ((510253.500 182881.600, 510249.900 18...   \n",
       "\n",
       "                            price  \n",
       "NAME                               \n",
       "Kingston upon Thames  502407.2465  \n",
       "Croydon               381139.2376  \n",
       "Bromley               445218.7958  \n",
       "Hounslow              408631.7179  \n",
       "Ealing                506143.1385  "
      ]
     },
     "execution_count": 154,
     "metadata": {},
     "output_type": "execute_result"
    }
   ],
   "source": [
    "# Merge the geodataframe with the dateframe containing last available data.\n",
    "df_map_hp = map_df.join(df_latest)\n",
    "df_map_hp.head(5)\n"
   ]
  },
  {
   "cell_type": "code",
   "execution_count": 155,
   "metadata": {},
   "outputs": [
    {
     "data": {
      "text/plain": [
       "Text(0.5, 1, 'London House Prices in September 2020')"
      ]
     },
     "execution_count": 155,
     "metadata": {},
     "output_type": "execute_result"
    },
    {
     "data": {
      "image/png": "[encoded data removed]",
      "text/plain": [
       "<Figure size 720x432 with 2 Axes>"
      ]
     },
     "metadata": {
      "needs_background": "light"
     },
     "output_type": "display_data"
    }
   ],
   "source": [
    "# create figure and axes for Matplotlib\n",
    "fig, ax = plt.subplots(1, figsize=(10, 6))\n",
    "# create map\n",
    "df_map_hp.plot(column='price', cmap='Blues', linewidth=0.8, ax=ax, edgecolor='0.8', legend=True, legend_kwds = {'label':'Price'})\n",
    "# remove the axis\n",
    "ax.axis('off')\n",
    "# add a title\n",
    "ax.set_title('London House Prices in September 2020', fontdict={'fontsize': '22', 'fontweight' : '3'})\n",
    "\n",
    "# To learn how to create this diagram I have used this website: https://towardsdatascience.com/lets-make-a-map-using-geopandas-pandas-and-matplotlib-to-make-a-chloropleth-map-dddc31c1983d"
   ]
  },
  {
   "cell_type": "markdown",
   "metadata": {},
   "source": [
    "> This is chorolopleth map perfectly shows the closer we get to Central London the higher the house prices are, while we can also see that cheapest area is around East London. Interesting to see that there are some parts of West London which are quite far from Central but the prices are still quite high."
   ]
  },
  {
   "cell_type": "markdown",
   "metadata": {},
   "source": [
    "### 2.3 How the volume of sales affect the house prices"
   ]
  },
  {
   "cell_type": "code",
   "execution_count": 160,
   "metadata": {},
   "outputs": [
    {
     "data": {
      "text/html": [
       "<div>\n",
       "<style scoped>\n",
       "    .dataframe tbody tr th:only-of-type {\n",
       "        vertical-align: middle;\n",
       "    }\n",
       "\n",
       "    .dataframe tbody tr th {\n",
       "        vertical-align: top;\n",
       "    }\n",
       "\n",
       "    .dataframe thead th {\n",
       "        text-align: right;\n",
       "    }\n",
       "</style>\n",
       "<table border=\"1\" class=\"dataframe\">\n",
       "  <thead>\n",
       "    <tr style=\"text-align: right;\">\n",
       "      <th></th>\n",
       "      <th>date</th>\n",
       "      <th>London</th>\n",
       "    </tr>\n",
       "  </thead>\n",
       "  <tbody>\n",
       "    <tr>\n",
       "      <th>0</th>\n",
       "      <td>1995-01-01</td>\n",
       "      <td>7506</td>\n",
       "    </tr>\n",
       "    <tr>\n",
       "      <th>1</th>\n",
       "      <td>1995-02-01</td>\n",
       "      <td>6873</td>\n",
       "    </tr>\n",
       "    <tr>\n",
       "      <th>2</th>\n",
       "      <td>1995-03-01</td>\n",
       "      <td>9639</td>\n",
       "    </tr>\n",
       "  </tbody>\n",
       "</table>\n",
       "</div>"
      ],
      "text/plain": [
       "        date  London\n",
       "0 1995-01-01    7506\n",
       "1 1995-02-01    6873\n",
       "2 1995-03-01    9639"
      ]
     },
     "execution_count": 160,
     "metadata": {},
     "output_type": "execute_result"
    }
   ],
   "source": [
    "# Loading the sales volume sheet from the Excel file\n",
    "df_sv = pd.read_excel('datasets/UK_House_price_index.xlsx',sheet_name='Sales Volume', usecols='A,AS', skiprows=[1])\n",
    "df_sv.columns.values[0] = 'date'\n",
    "df_sv.rename(columns={'LONDON':'London'},inplace=True)\n",
    "df_sv.head(3)\n",
    "\n"
   ]
  },
  {
   "cell_type": "code",
   "execution_count": 161,
   "metadata": {},
   "outputs": [],
   "source": [
    "df_sv_sum = df_sv"
   ]
  },
  {
   "cell_type": "code",
   "execution_count": 162,
   "metadata": {},
   "outputs": [],
   "source": [
    "# Create a datetime series by parsing the dates.\n",
    "df_sv_sum['date'] = pd.to_datetime(df_sv_sum['date'], format='%Y')"
   ]
  },
  {
   "cell_type": "code",
   "execution_count": 163,
   "metadata": {},
   "outputs": [
    {
     "data": {
      "text/html": [
       "<div>\n",
       "<style scoped>\n",
       "    .dataframe tbody tr th:only-of-type {\n",
       "        vertical-align: middle;\n",
       "    }\n",
       "\n",
       "    .dataframe tbody tr th {\n",
       "        vertical-align: top;\n",
       "    }\n",
       "\n",
       "    .dataframe thead th {\n",
       "        text-align: right;\n",
       "    }\n",
       "</style>\n",
       "<table border=\"1\" class=\"dataframe\">\n",
       "  <thead>\n",
       "    <tr style=\"text-align: right;\">\n",
       "      <th></th>\n",
       "      <th>sales</th>\n",
       "    </tr>\n",
       "    <tr>\n",
       "      <th>date</th>\n",
       "      <th></th>\n",
       "    </tr>\n",
       "  </thead>\n",
       "  <tbody>\n",
       "    <tr>\n",
       "      <th>1995</th>\n",
       "      <td>106850</td>\n",
       "    </tr>\n",
       "    <tr>\n",
       "      <th>1996</th>\n",
       "      <td>132953</td>\n",
       "    </tr>\n",
       "    <tr>\n",
       "      <th>1997</th>\n",
       "      <td>154343</td>\n",
       "    </tr>\n",
       "  </tbody>\n",
       "</table>\n",
       "</div>"
      ],
      "text/plain": [
       "       sales\n",
       "date        \n",
       "1995  106850\n",
       "1996  132953\n",
       "1997  154343"
      ]
     },
     "execution_count": 163,
     "metadata": {},
     "output_type": "execute_result"
    }
   ],
   "source": [
    "# Groupby the year of the and take the sum of sales of that year\n",
    "df_sv_sum = df_sv_sum.groupby(df_sv_sum['date'].dt.year).sum()\n",
    "# Renaming London to sales\n",
    "df_sv_sum.rename(columns={'London':\"sales\"},inplace=True)\n",
    "df_sv_sum.head(3)"
   ]
  },
  {
   "cell_type": "code",
   "execution_count": 164,
   "metadata": {},
   "outputs": [
    {
     "data": {
      "text/html": [
       "<div>\n",
       "<style scoped>\n",
       "    .dataframe tbody tr th:only-of-type {\n",
       "        vertical-align: middle;\n",
       "    }\n",
       "\n",
       "    .dataframe tbody tr th {\n",
       "        vertical-align: top;\n",
       "    }\n",
       "\n",
       "    .dataframe thead th {\n",
       "        text-align: right;\n",
       "    }\n",
       "</style>\n",
       "<table border=\"1\" class=\"dataframe\">\n",
       "  <thead>\n",
       "    <tr style=\"text-align: right;\">\n",
       "      <th></th>\n",
       "      <th>price</th>\n",
       "    </tr>\n",
       "    <tr>\n",
       "      <th>date</th>\n",
       "      <th></th>\n",
       "    </tr>\n",
       "  </thead>\n",
       "  <tbody>\n",
       "    <tr>\n",
       "      <th>1995</th>\n",
       "      <td>74721.326875</td>\n",
       "    </tr>\n",
       "    <tr>\n",
       "      <th>1996</th>\n",
       "      <td>78166.224347</td>\n",
       "    </tr>\n",
       "    <tr>\n",
       "      <th>1997</th>\n",
       "      <td>89943.920103</td>\n",
       "    </tr>\n",
       "  </tbody>\n",
       "</table>\n",
       "</div>"
      ],
      "text/plain": [
       "             price\n",
       "date              \n",
       "1995  74721.326875\n",
       "1996  78166.224347\n",
       "1997  89943.920103"
      ]
     },
     "execution_count": 164,
     "metadata": {},
     "output_type": "execute_result"
    }
   ],
   "source": [
    "# For simplicity I will reload my original dataset only with London data.\n",
    "# Loading Average House Prices from The Excel File, We load all the different borough + London average + England Average\n",
    "# This dataset is quite clean already, we will use the dates as index and we will not use the 2nd row as it is empty.\n",
    "df_hp = pd.read_excel('datasets/UK_House_price_index.xlsx',sheet_name='Average price', usecols='A:AH,AS', skiprows=[1])\n",
    "\n",
    "df_hp.columns.values[0] = 'date'\n",
    "df_hp.rename(columns={'LONDON':'London'},inplace=True)\n",
    "\n",
    "# Create a datetime series by parsing the dates.\n",
    "df_hp['date'] = pd.to_datetime(df_london['date'], format='%Y')\n",
    "df_london=df_hp[['date','London']]\n",
    "\n",
    "# Groupby the year of the and take the mean of sales of that year\n",
    "df_london_mean = df_london.groupby(df_london['date'].dt.year).mean()\n",
    "# Renaming London to sales\n",
    "df_london_mean.rename(columns={'London':\"price\"},inplace =True)\n",
    "df_london_mean.head(3)"
   ]
  },
  {
   "cell_type": "code",
   "execution_count": 165,
   "metadata": {},
   "outputs": [
    {
     "data": {
      "text/html": [
       "<div>\n",
       "<style scoped>\n",
       "    .dataframe tbody tr th:only-of-type {\n",
       "        vertical-align: middle;\n",
       "    }\n",
       "\n",
       "    .dataframe tbody tr th {\n",
       "        vertical-align: top;\n",
       "    }\n",
       "\n",
       "    .dataframe thead th {\n",
       "        text-align: right;\n",
       "    }\n",
       "</style>\n",
       "<table border=\"1\" class=\"dataframe\">\n",
       "  <thead>\n",
       "    <tr style=\"text-align: right;\">\n",
       "      <th></th>\n",
       "      <th>sales</th>\n",
       "      <th>price</th>\n",
       "    </tr>\n",
       "    <tr>\n",
       "      <th>date</th>\n",
       "      <th></th>\n",
       "      <th></th>\n",
       "    </tr>\n",
       "  </thead>\n",
       "  <tbody>\n",
       "    <tr>\n",
       "      <th>2017</th>\n",
       "      <td>96040</td>\n",
       "      <td>480247.169883</td>\n",
       "    </tr>\n",
       "    <tr>\n",
       "      <th>2018</th>\n",
       "      <td>89797</td>\n",
       "      <td>477854.814982</td>\n",
       "    </tr>\n",
       "    <tr>\n",
       "      <th>2019</th>\n",
       "      <td>82860</td>\n",
       "      <td>471310.730333</td>\n",
       "    </tr>\n",
       "  </tbody>\n",
       "</table>\n",
       "</div>"
      ],
      "text/plain": [
       "      sales          price\n",
       "date                      \n",
       "2017  96040  480247.169883\n",
       "2018  89797  477854.814982\n",
       "2019  82860  471310.730333"
      ]
     },
     "execution_count": 165,
     "metadata": {},
     "output_type": "execute_result"
    }
   ],
   "source": [
    "# Now We Can Simply merge the two dataframes\n",
    "df_merged = pd.merge(df_sv_sum, df_london_mean, on='date')\n",
    "# We drop 2020 as the year has not finished yet.\n",
    "df_merged.drop(2020, axis=0,inplace=True)\n",
    "# Check the last 3 row\n",
    "df_merged.tail(3)"
   ]
  },
  {
   "cell_type": "code",
   "execution_count": 166,
   "metadata": {},
   "outputs": [
    {
     "data": {
      "text/plain": [
       "Text(0.5, 0, 'Year')"
      ]
     },
     "execution_count": 166,
     "metadata": {},
     "output_type": "execute_result"
    },
    {
     "data": {
      "image/png": "[encoded data removed]",
      "text/plain": [
       "<Figure size 432x288 with 1 Axes>"
      ]
     },
     "metadata": {
      "needs_background": "light"
     },
     "output_type": "display_data"
    }
   ],
   "source": [
    "ax = df_merged.pct_change().plot()\n",
    "ax.yaxis.set_major_formatter(mpl.ticker.PercentFormatter(1))\n",
    "ax.set_title('Year on Year change in house prices and sales volume in percentage.')\n",
    "ax.set_ylabel('Change in percentage')\n",
    "ax.set_xlabel('Year')"
   ]
  },
  {
   "cell_type": "markdown",
   "metadata": {},
   "source": [
    "> With this diagram I wanted to demonstrate how the year on year change looks like on sales volume and price in percentage. This diagram shows that the prices often followed the changes in sales. We can see that orange line is often above the blue line meaning even if the sales volume has not increased that much the prices stil grow more. We can also see that the Great Recession had a much larger impact on sales volume than on the housing prices."
   ]
  },
  {
   "cell_type": "markdown",
   "metadata": {},
   "source": [
    "## 3. Concolusion"
   ]
  },
  {
   "cell_type": "markdown",
   "metadata": {},
   "source": [
    "In conclusion, I had a great understanding from the visualizations that the average London house prices has always been higher than the average England houses and there are no areas in London where this would be different. Now we can see a tendency that prices getting closer to London house prices thic can be due to Brexit and this year maybe also due to Covid-19 as people start working from home and the large offices in London are not in use.\n",
    "\n",
    "I have also explored the current market situation and could easily identify the most expensive and cheapest areas in London. I also explored some new information with my last visualization where I have discovered that increasing volume of sales results higher prices, but the house prices usually grow more significantly than the volume of sales."
   ]
  },
  {
   "cell_type": "code",
   "execution_count": null,
   "metadata": {},
   "outputs": [],
   "source": []
  }
 ],
 "metadata": {
  "kernelspec": {
   "display_name": "Python 3",
   "language": "python",
   "name": "python3"
  },
  "language_info": {
   "codemirror_mode": {
    "name": "ipython",
    "version": 3
   },
   "file_extension": ".py",
   "mimetype": "text/x-python",
   "name": "python",
   "nbconvert_exporter": "python",
   "pygments_lexer": "ipython3",
   "version": "3.7.6"
  }
 },
 "nbformat": 4,
 "nbformat_minor": 4
}
